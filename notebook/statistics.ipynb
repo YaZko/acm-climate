{
 "cells": [
  {
   "cell_type": "code",
   "execution_count": null,
   "metadata": {},
   "outputs": [],
   "source": [
    "import pandas as pd\n",
    "import numpy as np\n",
    "import altair as alt"
   ]
  },
  {
   "cell_type": "code",
   "execution_count": null,
   "metadata": {},
   "outputs": [],
   "source": [
    "from geopy.distance import distance as geopy_distance\n",
    "memo_distances = {}\n",
    "def distance(c1, c2):\n",
    "    \"\"\"\n",
    "    Computes distance from two latlong coordinates.\n",
    "    \"\"\"\n",
    "    global memo_distances\n",
    "    if (c1, c2) in memo_distances:\n",
    "        return memo_distances[(c1, c2)]\n",
    "    else:\n",
    "        ret = geopy_distance(c1, c2).km\n",
    "        memo_distances[(c1, c2)] = ret\n",
    "        memo_distances[(c2, c1)] = ret\n",
    "        return ret\n",
    "\n",
    "def get_cost(a_lat, a_long, b_lat, b_long):\n",
    "    \"\"\"\n",
    "    Computes carbon cost of a flight from a to b in kg.\n",
    "    \"\"\"\n",
    "    dist = distance((a_lat, a_long), (b_lat, b_long))\n",
    "    if dist < 785:\n",
    "        emission_factor = 0.14735\n",
    "    elif dist < 3700:\n",
    "        emission_factor = 0.08728\n",
    "    else:\n",
    "        emission_factor = 0.077610\n",
    "    radiative_factor_index = 1.891\n",
    "    cost = dist * emission_factor * radiative_factor_index * 2\n",
    "    return cost\n"
   ]
  },
  {
   "cell_type": "code",
   "execution_count": null,
   "metadata": {},
   "outputs": [],
   "source": [
    "get_cost(39.95233, -75.16379, -33.86785, 151.20732)"
   ]
  },
  {
   "cell_type": "code",
   "execution_count": null,
   "metadata": {},
   "outputs": [],
   "source": [
    "ps = pd.read_csv(\"../output/test_real/raw_participants.csv\", na_filter=False)\n",
    "cs = pd.read_csv(\"../output/test_real/raw_confs.csv\", na_filter=False)\n",
    "\n",
    "cs = cs.set_index([\"conference\", \"year\"])\n",
    "ps = ps.set_index([\"participant\", \"conference\", \"year\"])\n",
    "\n",
    "continents_cat = pd.CategoricalDtype(categories=[\"NA\", \"EU\", \"OC\", \"AS\", \"AF\", \"SA\"])\n",
    "cs[\"continent\"] = cs[\"continent\"].astype(continents_cat)\n",
    "ps[\"continent\"] = ps[\"continent\"].astype(continents_cat)"
   ]
  },
  {
   "cell_type": "code",
   "execution_count": null,
   "metadata": {},
   "outputs": [],
   "source": [
    "all = ps.join(cs, on=[\"conference\", \"year\"], lsuffix=\"_part\", rsuffix=\"_conf\")\n",
    "\n",
    "all[\"cost\"] = np.vectorize(get_cost)(all[\"lat_part\"],all[\"long_part\"],all[\"lat_conf\"],all[\"long_conf\"])"
   ]
  },
  {
   "cell_type": "markdown",
   "metadata": {},
   "source": [
    "## Cost per conference"
   ]
  },
  {
   "cell_type": "code",
   "execution_count": null,
   "metadata": {},
   "outputs": [],
   "source": [
    "per_conf = all.reset_index(level=\"participant\")\n",
    "\n",
    "cost_per_conference = per_conf.groupby(by=[\"conference\", \"year\"]).cost.agg([\"mean\", \"count\"])"
   ]
  },
  {
   "cell_type": "code",
   "execution_count": null,
   "metadata": {},
   "outputs": [],
   "source": [
    "all"
   ]
  },
  {
   "cell_type": "markdown",
   "metadata": {},
   "source": [
    "## Locality of participation"
   ]
  },
  {
   "cell_type": "code",
   "execution_count": null,
   "metadata": {},
   "outputs": [],
   "source": [
    "locality = all.loc[:, [\"continent_part\", \"continent_conf\"]].reset_index(\"participant\")"
   ]
  },
  {
   "cell_type": "code",
   "execution_count": null,
   "metadata": {},
   "outputs": [],
   "source": [
    "locality_norm = locality.groupby(by=[\"conference\", \"year\"]).continent_part.value_counts(normalize=True)\n",
    "locality_norm = locality_norm.unstack(fill_value=0)\n",
    "locality_norm[\"continent\"] = cs[\"continent\"]\n",
    "locality_norm[\"local\"] = locality_norm.apply(lambda r: r[r[\"continent\"]], axis=1)\n",
    "locality_norm"
   ]
  },
  {
   "cell_type": "markdown",
   "metadata": {},
   "source": [
    "### Graph of the origin of participants for each conference"
   ]
  },
  {
   "cell_type": "code",
   "execution_count": null,
   "metadata": {},
   "outputs": [],
   "source": [
    "loc_per_conf = all[[\"continent_part\"]].groupby(by=[\"conference\", \"year\"]).continent_part.value_counts()\n",
    "loc_per_conf = loc_per_conf.rename(\"participants\")\n",
    "loc_per_conf"
   ]
  },
  {
   "cell_type": "code",
   "execution_count": null,
   "metadata": {},
   "outputs": [],
   "source": [
    "def plot_conf(data, conf):\n",
    "  dfConf = data.loc[conf].reset_index()\n",
    "  c = alt.Chart(dfConf, title=conf)\n",
    "  c.mark_bar().encode(\n",
    "      x=\"year\",\n",
    "      y=\"sum(participants)\",\n",
    "     color=\"continent_part\"\n",
    "  ).display()"
   ]
  },
  {
   "cell_type": "code",
   "execution_count": null,
   "metadata": {},
   "outputs": [],
   "source": [
    "loc_per_conf.index.to_frame()[\"conference\"]"
   ]
  },
  {
   "cell_type": "code",
   "execution_count": null,
   "metadata": {},
   "outputs": [],
   "source": [
    "for conf in loc_per_conf.index.droplevel([1,2]).unique():\n",
    "    plot_conf(loc_per_conf, conf)"
   ]
  },
  {
   "cell_type": "code",
   "execution_count": null,
   "metadata": {},
   "outputs": [],
   "source": []
  }
 ],
 "metadata": {
  "kernelspec": {
   "display_name": "Python 3",
   "language": "python",
   "name": "python3"
  },
  "language_info": {
   "codemirror_mode": {
    "name": "ipython",
    "version": 3
   },
   "file_extension": ".py",
   "mimetype": "text/x-python",
   "name": "python",
   "nbconvert_exporter": "python",
   "pygments_lexer": "ipython3",
   "version": "3.8.1"
  }
 },
 "nbformat": 4,
 "nbformat_minor": 4
}
